{
 "cells": [
  {
   "cell_type": "code",
   "execution_count": 1,
   "id": "d392d9fd-240e-4852-893c-05e27230ca3d",
   "metadata": {},
   "outputs": [],
   "source": [
    "######Data Visualization Dashboard\n",
    "#\n",
    "#libraries\n",
    "#pandas is for manipulation and analysis of data\n",
    "import pandas as pd\n",
    "#dash is for writing web\n",
    "import dash\n",
    "from dash import dcc\n",
    "from dash import html\n",
    "#variables and functions start with lower letter but classes start with upper-case\n",
    "from dash.dependencies import Input, Output\n",
    "#high level data visualizing library\n",
    "import plotly.express as px\n",
    "#Seaborn is data visualizing library that is built on top of matplotlib\n",
    "import seaborn as sns\n",
    "import matplotlib.pyplot as plt"
   ]
  },
  {
   "cell_type": "code",
   "execution_count": 2,
   "id": "abe2841e-c72c-432e-b480-714e4b2694eb",
   "metadata": {},
   "outputs": [],
   "source": [
    "# Placing the data we have on file into a variable\n",
    "df = pd.read_csv('your_dataset.csv')\n"
   ]
  },
  {
   "cell_type": "code",
   "execution_count": 3,
   "id": "7561ea2c-ad16-4bb1-8001-bae79ad7181e",
   "metadata": {},
   "outputs": [],
   "source": [
    "#create dash app. The first dash is a module creating a Dash application. __name__ is the name of the current module\n",
    "#If the script is run directly the name is changed to main. The name helpe find the python determine the root path of applications\n",
    "#app defines the layout, call back and behaviour of web applications\n",
    "#Dash components (like HTML elements, graphs, dropdowns, etc.)\n",
    "#The Dash library is specifically designed for creating interactive web-based applications using Python, allowing you to\n",
    "#build web interfaces, incorporate interactive components, and define callbacks for handling user interactions.\n",
    "app = dash.Dash(__name__)\n",
    "#dash.Dash for initializing the application, dash_core_components and \n",
    "#dash_html_components for constructing the layout, and other \n",
    "#dash.dependencies for managing the callback interactions."
   ]
  },
  {
   "cell_type": "code",
   "execution_count": 4,
   "id": "66499c91-a1c2-4c1f-ab77-403746842d64",
   "metadata": {},
   "outputs": [
    {
     "data": {
      "image/png": "[encoded data removed]",
      "text/plain": [
       "<Figure size 800x600 with 1 Axes>"
      ]
     },
     "metadata": {},
     "output_type": "display_data"
    }
   ],
   "source": [
    "#Step 1 exploratory data analysis\n",
    "plt.figure(figsize=(8,6))\n",
    "plt.hist(df['City'], bins = 50, color = 'red')\n",
    "\n",
    "plt.xlabel = ('x label')\n",
    "plt.ylabel = ('y label')\n",
    "plt.title('Histogram example')\n",
    "plt.grid(True)\n",
    "#plt.tight_layout()"
   ]
  },
  {
   "cell_type": "code",
   "execution_count": 5,
   "id": "0a87bd43-7917-4c54-b009-3bcd92dcc35e",
   "metadata": {},
   "outputs": [],
   "source": [
    "#define the lay out of the dashboard using the dash html components\n",
    "#When you write app.layout, you are assigning a layout to the Dash application by setting the layout attribute \n",
    "#of the Dash application object (app)\n",
    "##Let me say it disway..... you design a layout for app\n",
    "app.layout = html.Div([\n",
    "    #title of the dashboard\n",
    "    #html.Div in Dash serves as a container element used to group and organize other HTML elements or Dash components.\n",
    "    html.H1('Data Visualization Dashboard'),#the <h1> element is used to define the most important heading or title within a section or a webpage. \n",
    "    #Drop down components for selecting features,columns\n",
    "dcc.Dropdown(\n",
    "    id='dropdown-feature', #unique identifier for this dropdown component\n",
    "    #dropdown options based onData Frame columns\n",
    "    options = [{'label':col, 'value':col}for col in df.columns], #When I eliminated this line, names of selection box got affected\n",
    "    #default value to be displayed when the app starts\n",
    "    value = df.columns[1], \n",
    "    #Adjust the width of dropdown\n",
    "    style = {'width' :'50%'}\n",
    "    ),\n",
    "    # Graph component to display visualizations (initially empty)\n",
    "    dcc.Graph(id='visualizations')  # Unique identifier for the graph component\n",
    "    #ID inside the paranthesis refers to the attribute outside the paranthesis\n",
    "])\n"
   ]
  },
  {
   "cell_type": "code",
   "execution_count": 6,
   "id": "1dca9435-8101-4f19-91f7-a3527441aac1",
   "metadata": {},
   "outputs": [
    {
     "data": {
      "text/html": [
       "\n",
       "        <iframe\n",
       "            width=\"100%\"\n",
       "            height=\"650\"\n",
       "            src=\"http://127.0.0.1:8053/\"\n",
       "            frameborder=\"0\"\n",
       "            allowfullscreen\n",
       "            \n",
       "        ></iframe>\n",
       "        "
      ],
      "text/plain": [
       "<IPython.lib.display.IFrame at 0x13a1d8bf0>"
      ]
     },
     "metadata": {},
     "output_type": "display_data"
    }
   ],
   "source": [
    "# Define callback to update the graph based on dropdown selection\n",
    "@app.callback(\n",
    "    Output('visualizations','figure'),\n",
    "    [Input('dropdown-feature','value')]\n",
    "          )\n",
    "def update_graph(selected_feature):\n",
    "# Generate Plotly Express visualization based on the selected feature/column\n",
    "    fig = px.histogram(df, x=selected_feature, title=f'{selected_feature} Distribution')\n",
    "\n",
    "    return fig\n",
    "\n",
    "# Run the app\n",
    "if __name__ == '__main__':\n",
    "    app.run_server(debug=True, port=8053)"
   ]
  },
  {
   "cell_type": "code",
   "execution_count": 7,
   "id": "0cf45790-dbbb-4dbf-823d-bfe253185e67",
   "metadata": {},
   "outputs": [],
   "source": [
    "#for component in app.layout:\n",
    " #   if isinstance(component, dcc.Dropdown) or isinstance(component, dcc.Graph):\n",
    "  #      print(f\"Component ID: {component.id}\")\n"
   ]
  },
  {
   "cell_type": "code",
   "execution_count": 8,
   "id": "25b69798-b8b5-45ca-aa72-b453d129cc32",
   "metadata": {},
   "outputs": [
    {
     "name": "stdout",
     "output_type": "stream",
     "text": [
      "Callback Output ID: visualizations\n",
      "Callback Input ID: dropdown-feature\n"
     ]
    }
   ],
   "source": [
    "# Print the IDs used in the callback\n",
    "print(f\"Callback Output ID: {'visualizations'}\")\n",
    "print(f\"Callback Input ID: {'dropdown-feature'}\")"
   ]
  },
  {
   "cell_type": "code",
   "execution_count": 9,
   "id": "772de0d2-9861-4793-8607-2bbaf32b9bf7",
   "metadata": {},
   "outputs": [],
   "source": [
    "import io\n",
    "import base64"
   ]
  },
  {
   "cell_type": "code",
   "execution_count": 10,
   "id": "3d1342a5-61ba-4c79-94d4-ec4cf62a2d4c",
   "metadata": {},
   "outputs": [
    {
     "data": {
      "text/html": [
       "\n",
       "        <iframe\n",
       "            width=\"100%\"\n",
       "            height=\"650\"\n",
       "            src=\"http://127.0.0.1:8052/\"\n",
       "            frameborder=\"0\"\n",
       "            allowfullscreen\n",
       "            \n",
       "        ></iframe>\n",
       "        "
      ],
      "text/plain": [
       "<IPython.lib.display.IFrame at 0x13ab63dd0>"
      ]
     },
     "metadata": {},
     "output_type": "display_data"
    }
   ],
   "source": [
    "#what is slider\n",
    "##slider is a graphical control element that allows users to select \n",
    "##a value from a continuous range by moving a visual slider control along a track. \n",
    "\n",
    "import dash\n",
    "from dash import dcc, html\n",
    "\n",
    "app = dash.Dash(__name__)\n",
    "\n",
    "app.layout = html.Div([\n",
    "    html.Label('Select a value:'),\n",
    "    dcc.Slider(\n",
    "        id='slider',  # Assigned an ID 'slider' to the Slider component\n",
    "    ##the id attribute is used to uniquely identify an HTML element or a Dash component \n",
    "    ##within the layout. Each element or component in a web page or a Dash application can have its own unique ID, \n",
    "       ##allowing it to be referenced, targeted, or manipulated via CSS, JavaScript, or Python code.\n",
    "        min=0,\n",
    "        max=10,\n",
    "        step=1,\n",
    "        value=5,\n",
    "        marks={i: str(i) for i in range(11)}\n",
    "    ),\n",
    "    html.Div(id='slider-output')\n",
    "])\n",
    "\n",
    "@app.callback(\n",
    "    dash.dependencies.Output('slider-output', 'children'),\n",
    "    [dash.dependencies.Input('slider', 'value')]\n",
    ")\n",
    "def update_output(children): #Children is a predefined property of a component that you utilize to control \n",
    "    # what content or components are displayed inside that particular component you can also use 'value' istead of children here\n",
    "    return f'You selected: {children}'\n",
    "\n",
    "if __name__ == '__main__':\n",
    "   app.run_server(debug=True, port=8052)"
   ]
  },
  {
   "cell_type": "code",
   "execution_count": null,
   "id": "fa782997-5e2d-458c-ac6d-ffc86d059f66",
   "metadata": {},
   "outputs": [],
   "source": []
  },
  {
   "cell_type": "code",
   "execution_count": null,
   "id": "95765521-6f4e-41fa-b97d-73cba311046d",
   "metadata": {},
   "outputs": [],
   "source": []
  }
 ],
 "metadata": {
  "kernelspec": {
   "display_name": "Python 3 (ipykernel)",
   "language": "python",
   "name": "python3"
  },
  "language_info": {
   "codemirror_mode": {
    "name": "ipython",
    "version": 3
   },
   "file_extension": ".py",
   "mimetype": "text/x-python",
   "name": "python",
   "nbconvert_exporter": "python",
   "pygments_lexer": "ipython3",
   "version": "3.12.0"
  }
 },
 "nbformat": 4,
 "nbformat_minor": 5
}
